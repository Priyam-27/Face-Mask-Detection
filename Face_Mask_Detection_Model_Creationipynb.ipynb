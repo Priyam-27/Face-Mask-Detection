{
  "nbformat": 4,
  "nbformat_minor": 0,
  "metadata": {
    "colab": {
      "name": "Face Mask Detection- Model Creationipynb",
      "provenance": []
    },
    "kernelspec": {
      "name": "python3",
      "display_name": "Python 3"
    },
    "accelerator": "GPU"
  },
  "cells": [
    {
      "cell_type": "markdown",
      "metadata": {
        "id": "wsBaSo-oJ9cK"
      },
      "source": [
        "### Mounting drive"
      ]
    },
    {
      "cell_type": "code",
      "metadata": {
        "colab": {
          "base_uri": "https://localhost:8080/"
        },
        "id": "Jj31V7u5J1Yb",
        "outputId": "361ed20d-607c-425a-ba63-45f6cef72f6c"
      },
      "source": [
        "from google.colab import drive\r\n",
        "drive.mount('/content/drive')"
      ],
      "execution_count": null,
      "outputs": [
        {
          "output_type": "stream",
          "text": [
            "Mounted at /content/drive\n"
          ],
          "name": "stdout"
        }
      ]
    },
    {
      "cell_type": "markdown",
      "metadata": {
        "id": "IGrrm0Q9Kd3M"
      },
      "source": [
        "### Installing keras tuner"
      ]
    },
    {
      "cell_type": "code",
      "metadata": {
        "colab": {
          "base_uri": "https://localhost:8080/"
        },
        "id": "W8AUSZ7lKJDw",
        "outputId": "551795c4-5877-4acd-d45f-2a0cf55c2ec0"
      },
      "source": [
        "! pip install keras-tuner"
      ],
      "execution_count": null,
      "outputs": [
        {
          "output_type": "stream",
          "text": [
            "Collecting keras-tuner\n",
            "\u001b[?25l  Downloading https://files.pythonhosted.org/packages/20/ec/1ef246787174b1e2bb591c95f29d3c1310070cad877824f907faba3dade9/keras-tuner-1.0.2.tar.gz (62kB)\n",
            "\r\u001b[K     |█████▏                          | 10kB 25.4MB/s eta 0:00:01\r\u001b[K     |██████████▍                     | 20kB 14.6MB/s eta 0:00:01\r\u001b[K     |███████████████▋                | 30kB 12.8MB/s eta 0:00:01\r\u001b[K     |████████████████████▉           | 40kB 12.1MB/s eta 0:00:01\r\u001b[K     |██████████████████████████      | 51kB 7.9MB/s eta 0:00:01\r\u001b[K     |███████████████████████████████▎| 61kB 8.5MB/s eta 0:00:01\r\u001b[K     |████████████████████████████████| 71kB 5.9MB/s \n",
            "\u001b[?25hRequirement already satisfied: packaging in /usr/local/lib/python3.6/dist-packages (from keras-tuner) (20.7)\n",
            "Requirement already satisfied: future in /usr/local/lib/python3.6/dist-packages (from keras-tuner) (0.16.0)\n",
            "Requirement already satisfied: numpy in /usr/local/lib/python3.6/dist-packages (from keras-tuner) (1.18.5)\n",
            "Requirement already satisfied: tabulate in /usr/local/lib/python3.6/dist-packages (from keras-tuner) (0.8.7)\n",
            "Collecting terminaltables\n",
            "  Downloading https://files.pythonhosted.org/packages/9b/c4/4a21174f32f8a7e1104798c445dacdc1d4df86f2f26722767034e4de4bff/terminaltables-3.1.0.tar.gz\n",
            "Collecting colorama\n",
            "  Downloading https://files.pythonhosted.org/packages/44/98/5b86278fbbf250d239ae0ecb724f8572af1c91f4a11edf4d36a206189440/colorama-0.4.4-py2.py3-none-any.whl\n",
            "Requirement already satisfied: tqdm in /usr/local/lib/python3.6/dist-packages (from keras-tuner) (4.41.1)\n",
            "Requirement already satisfied: requests in /usr/local/lib/python3.6/dist-packages (from keras-tuner) (2.23.0)\n",
            "Requirement already satisfied: scipy in /usr/local/lib/python3.6/dist-packages (from keras-tuner) (1.4.1)\n",
            "Requirement already satisfied: scikit-learn in /usr/local/lib/python3.6/dist-packages (from keras-tuner) (0.22.2.post1)\n",
            "Requirement already satisfied: pyparsing>=2.0.2 in /usr/local/lib/python3.6/dist-packages (from packaging->keras-tuner) (2.4.7)\n",
            "Requirement already satisfied: urllib3!=1.25.0,!=1.25.1,<1.26,>=1.21.1 in /usr/local/lib/python3.6/dist-packages (from requests->keras-tuner) (1.24.3)\n",
            "Requirement already satisfied: idna<3,>=2.5 in /usr/local/lib/python3.6/dist-packages (from requests->keras-tuner) (2.10)\n",
            "Requirement already satisfied: certifi>=2017.4.17 in /usr/local/lib/python3.6/dist-packages (from requests->keras-tuner) (2020.12.5)\n",
            "Requirement already satisfied: chardet<4,>=3.0.2 in /usr/local/lib/python3.6/dist-packages (from requests->keras-tuner) (3.0.4)\n",
            "Requirement already satisfied: joblib>=0.11 in /usr/local/lib/python3.6/dist-packages (from scikit-learn->keras-tuner) (0.17.0)\n",
            "Building wheels for collected packages: keras-tuner, terminaltables\n",
            "  Building wheel for keras-tuner (setup.py) ... \u001b[?25l\u001b[?25hdone\n",
            "  Created wheel for keras-tuner: filename=keras_tuner-1.0.2-cp36-none-any.whl size=78939 sha256=7447ed25a3f24074a2691bbb119af258ded554b4b6c7aba21b1201b6a24e7df7\n",
            "  Stored in directory: /root/.cache/pip/wheels/bb/a1/8a/7c3de0efb3707a1701b36ebbfdbc4e67aedf6d4943a1f463d6\n",
            "  Building wheel for terminaltables (setup.py) ... \u001b[?25l\u001b[?25hdone\n",
            "  Created wheel for terminaltables: filename=terminaltables-3.1.0-cp36-none-any.whl size=15357 sha256=b27dd701f48572fbecf9e6df97ffb43283eccbcbb659a9ae90b84d50263a6c3e\n",
            "  Stored in directory: /root/.cache/pip/wheels/30/6b/50/6c75775b681fb36cdfac7f19799888ef9d8813aff9e379663e\n",
            "Successfully built keras-tuner terminaltables\n",
            "Installing collected packages: terminaltables, colorama, keras-tuner\n",
            "Successfully installed colorama-0.4.4 keras-tuner-1.0.2 terminaltables-3.1.0\n"
          ],
          "name": "stdout"
        }
      ]
    },
    {
      "cell_type": "markdown",
      "metadata": {
        "id": "4zjYDVygKtmC"
      },
      "source": [
        "### Importing Libraries"
      ]
    },
    {
      "cell_type": "code",
      "metadata": {
        "id": "fUCgf0WOKlYt"
      },
      "source": [
        "import pickle\r\n",
        "import numpy as np\r\n",
        "from tensorflow import keras"
      ],
      "execution_count": null,
      "outputs": []
    },
    {
      "cell_type": "code",
      "metadata": {
        "id": "OuKcucm-K-aY"
      },
      "source": [
        "X=pickle.load(open('/content/drive/MyDrive/mask without mask/maskdata/maskdata/train/X.pkl', 'rb'))\r\n",
        "Y=pickle.load(open('/content/drive/MyDrive/mask without mask/maskdata/maskdata/train/Y.pkl', 'rb'))"
      ],
      "execution_count": null,
      "outputs": []
    },
    {
      "cell_type": "markdown",
      "metadata": {
        "id": "pxKY7uOGMQeU"
      },
      "source": [
        "### Scaling Data"
      ]
    },
    {
      "cell_type": "code",
      "metadata": {
        "id": "BYsSLv4UMJhs"
      },
      "source": [
        "X = X/255.0"
      ],
      "execution_count": null,
      "outputs": []
    },
    {
      "cell_type": "markdown",
      "metadata": {
        "id": "qxTzeOYQMWum"
      },
      "source": [
        "### Built Model"
      ]
    },
    {
      "cell_type": "code",
      "metadata": {
        "id": "8mQ5RLeeMVRs"
      },
      "source": [
        "from tensorflow.keras.models import Sequential\r\n",
        "from tensorflow.keras.layers import Conv2D, Flatten, Dense"
      ],
      "execution_count": null,
      "outputs": []
    },
    {
      "cell_type": "code",
      "metadata": {
        "id": "xqligXpBMnyj"
      },
      "source": [
        "def built_model(hp):\r\n",
        "  model = Sequential([\r\n",
        "                      Conv2D(\r\n",
        "                          filters = hp.Int('conv_1_filter', min_value=32, max_value=128, step=16),\r\n",
        "                          kernel_size = hp.Choice('conv_1_kernel', values=[3,5]),\r\n",
        "                          activation = 'relu',\r\n",
        "                          kernel_initializer = 'he_normal',\r\n",
        "                          input_shape = (100,100,3)\r\n",
        "                      ),\r\n",
        "                      Conv2D(\r\n",
        "                          filters = hp.Int('conv_2_filter', min_value=32, max_value=128, step=16),\r\n",
        "                          kernel_size = hp.Choice('conv_2_kernel', values=[3,5]),\r\n",
        "                          activation = 'relu',\r\n",
        "                          kernel_initializer = 'he_normal'\r\n",
        "                      ),\r\n",
        "\r\n",
        "                      Flatten(),\r\n",
        "\r\n",
        "                      Dense(units = hp.Int('dense_1_units', min_value=32, max_value=128, step=16),\r\n",
        "                            activation='relu', kernel_initializer='he_normal'),\r\n",
        "                      Dense(units=1, activation='sigmoid', kernel_initializer='glorot_normal')\r\n",
        "\r\n",
        "  ])\r\n",
        "  model.compile(optimizer = keras.optimizers.Adam (hp.Choice('learning_rate', values=[1e-3,1e-4])), \r\n",
        "                loss='binary_crossentropy', metrics = [['accuracy']])\r\n",
        "  return model"
      ],
      "execution_count": null,
      "outputs": []
    },
    {
      "cell_type": "code",
      "metadata": {
        "id": "W4PB3MIAPRRk"
      },
      "source": [
        "from kerastuner import RandomSearch\r\n",
        "from kerastuner.engine.hyperparameters import HyperParameters"
      ],
      "execution_count": null,
      "outputs": []
    },
    {
      "cell_type": "code",
      "metadata": {
        "id": "MMK59qPXPgbY"
      },
      "source": [
        "tuner_search = RandomSearch(built_model, objective='val_accuracy', max_trials=5, directory='Output', project_name = 'FaceMaskDetection')"
      ],
      "execution_count": null,
      "outputs": []
    },
    {
      "cell_type": "code",
      "metadata": {
        "colab": {
          "base_uri": "https://localhost:8080/"
        },
        "id": "HkZl97duP6iO",
        "outputId": "fe2a4808-5444-490d-8f97-7174d1d2883d"
      },
      "source": [
        "tuner_search.search(X,Y, epochs=5, validation_split=0.1)"
      ],
      "execution_count": null,
      "outputs": [
        {
          "output_type": "stream",
          "text": [
            "Trial 5 Complete [00h 00m 22s]\n",
            "val_accuracy: 0.9354838728904724\n",
            "\n",
            "Best val_accuracy So Far: 0.9838709831237793\n",
            "Total elapsed time: 00h 03m 56s\n",
            "INFO:tensorflow:Oracle triggered exit\n"
          ],
          "name": "stdout"
        }
      ]
    },
    {
      "cell_type": "markdown",
      "metadata": {
        "id": "4Bei9iv0QRX0"
      },
      "source": [
        ""
      ]
    },
    {
      "cell_type": "code",
      "metadata": {
        "id": "8v0sarsgQMyB"
      },
      "source": [
        "model = tuner_search.get_best_models(num_models=1)[0]"
      ],
      "execution_count": null,
      "outputs": []
    },
    {
      "cell_type": "code",
      "metadata": {
        "colab": {
          "base_uri": "https://localhost:8080/"
        },
        "id": "2hYliH_ZROx1",
        "outputId": "25d1904d-8029-4ec8-c65e-559c7af03309"
      },
      "source": [
        "model.summary()"
      ],
      "execution_count": null,
      "outputs": [
        {
          "output_type": "stream",
          "text": [
            "Model: \"sequential\"\n",
            "_________________________________________________________________\n",
            "Layer (type)                 Output Shape              Param #   \n",
            "=================================================================\n",
            "conv2d (Conv2D)              (None, 96, 96, 48)        3648      \n",
            "_________________________________________________________________\n",
            "conv2d_1 (Conv2D)            (None, 94, 94, 96)        41568     \n",
            "_________________________________________________________________\n",
            "flatten (Flatten)            (None, 848256)            0         \n",
            "_________________________________________________________________\n",
            "dense (Dense)                (None, 112)               95004784  \n",
            "_________________________________________________________________\n",
            "dense_1 (Dense)              (None, 1)                 113       \n",
            "=================================================================\n",
            "Total params: 95,050,113\n",
            "Trainable params: 95,050,113\n",
            "Non-trainable params: 0\n",
            "_________________________________________________________________\n"
          ],
          "name": "stdout"
        }
      ]
    },
    {
      "cell_type": "code",
      "metadata": {
        "colab": {
          "base_uri": "https://localhost:8080/"
        },
        "id": "PGtBJ9c7RRdr",
        "outputId": "c22fc02f-aa61-4e07-f37e-981646c468c0"
      },
      "source": [
        "model.fit(X,Y, epochs=13, validation_split=0.1, initial_epoch=2)"
      ],
      "execution_count": null,
      "outputs": [
        {
          "output_type": "stream",
          "text": [
            "Epoch 3/13\n",
            " 2/18 [==>...........................] - ETA: 0s - loss: 0.3054 - accuracy: 0.9219WARNING:tensorflow:Callbacks method `on_train_batch_end` is slow compared to the batch time (batch time: 0.0176s vs `on_train_batch_end` time: 0.0475s). Check your callbacks.\n",
            "18/18 [==============================] - 1s 55ms/step - loss: 0.1231 - accuracy: 0.9729 - val_loss: 0.2157 - val_accuracy: 0.9355\n",
            "Epoch 4/13\n",
            "18/18 [==============================] - 1s 50ms/step - loss: 0.0715 - accuracy: 0.9838 - val_loss: 0.1541 - val_accuracy: 0.9839\n",
            "Epoch 5/13\n",
            "18/18 [==============================] - 1s 51ms/step - loss: 0.0191 - accuracy: 0.9910 - val_loss: 0.2208 - val_accuracy: 0.9839\n",
            "Epoch 6/13\n",
            "18/18 [==============================] - 1s 51ms/step - loss: 0.0036 - accuracy: 0.9982 - val_loss: 0.0985 - val_accuracy: 0.9839\n",
            "Epoch 7/13\n",
            "18/18 [==============================] - 1s 50ms/step - loss: 0.0114 - accuracy: 0.9964 - val_loss: 0.2207 - val_accuracy: 0.9839\n",
            "Epoch 8/13\n",
            "18/18 [==============================] - 1s 51ms/step - loss: 0.0221 - accuracy: 0.9982 - val_loss: 0.2287 - val_accuracy: 0.9839\n",
            "Epoch 9/13\n",
            "18/18 [==============================] - 1s 50ms/step - loss: 0.0150 - accuracy: 0.9946 - val_loss: 0.1010 - val_accuracy: 0.9839\n",
            "Epoch 10/13\n",
            "18/18 [==============================] - 1s 50ms/step - loss: 0.0478 - accuracy: 0.9856 - val_loss: 0.2115 - val_accuracy: 0.9839\n",
            "Epoch 11/13\n",
            "18/18 [==============================] - 1s 50ms/step - loss: 0.0142 - accuracy: 0.9946 - val_loss: 0.3084 - val_accuracy: 0.9839\n",
            "Epoch 12/13\n",
            "18/18 [==============================] - 1s 51ms/step - loss: 0.0165 - accuracy: 0.9928 - val_loss: 0.3462 - val_accuracy: 0.9677\n",
            "Epoch 13/13\n",
            "18/18 [==============================] - 1s 50ms/step - loss: 0.0309 - accuracy: 0.9928 - val_loss: 0.2026 - val_accuracy: 0.9839\n"
          ],
          "name": "stdout"
        },
        {
          "output_type": "execute_result",
          "data": {
            "text/plain": [
              "<tensorflow.python.keras.callbacks.History at 0x7f910bf37ef0>"
            ]
          },
          "metadata": {
            "tags": []
          },
          "execution_count": 21
        }
      ]
    },
    {
      "cell_type": "code",
      "metadata": {
        "id": "-DKnVamtRiJ1"
      },
      "source": [
        "model.save('/content/drive/MyDrive/mask without mask/maskdata/maskdata/train/FaceMask.h5')"
      ],
      "execution_count": null,
      "outputs": []
    },
    {
      "cell_type": "code",
      "metadata": {
        "id": "Gok6N16bSHH4"
      },
      "source": [
        ""
      ],
      "execution_count": null,
      "outputs": []
    }
  ]
}