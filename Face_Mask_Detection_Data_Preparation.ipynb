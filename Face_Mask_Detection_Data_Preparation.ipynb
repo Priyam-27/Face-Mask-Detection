{
  "nbformat": 4,
  "nbformat_minor": 0,
  "metadata": {
    "colab": {
      "name": "Face Mask Detection - Data Preparation.ipynb",
      "provenance": []
    },
    "kernelspec": {
      "name": "python3",
      "display_name": "Python 3"
    }
  },
  "cells": [
    {
      "cell_type": "markdown",
      "metadata": {
        "id": "AFI-Sx18BkvG"
      },
      "source": [
        "### Mounting google drive"
      ]
    },
    {
      "cell_type": "code",
      "metadata": {
        "colab": {
          "base_uri": "https://localhost:8080/"
        },
        "id": "aZD8vG0mBUEP",
        "outputId": "f7240e5b-9228-49b7-facd-8d84389e3496"
      },
      "source": [
        "from google.colab import drive\r\n",
        "drive.mount('/content/drive')"
      ],
      "execution_count": null,
      "outputs": [
        {
          "output_type": "stream",
          "text": [
            "Mounted at /content/drive\n"
          ],
          "name": "stdout"
        }
      ]
    },
    {
      "cell_type": "markdown",
      "metadata": {
        "id": "GoivnSotCaPw"
      },
      "source": [
        "### Import Libraries"
      ]
    },
    {
      "cell_type": "code",
      "metadata": {
        "id": "Sv_qAHkQBvq4"
      },
      "source": [
        "import numpy as np\r\n",
        "import cv2\r\n",
        "import random\r\n",
        "import os\r\n",
        "import matplotlib.pyplot as plt\r\n",
        "import pickle\r\n",
        "%matplotlib inline"
      ],
      "execution_count": null,
      "outputs": []
    },
    {
      "cell_type": "code",
      "metadata": {
        "id": "NhwDs1pnC1ql"
      },
      "source": [
        "path = r'/content/drive/MyDrive/mask without mask/maskdata/maskdata/train'\r\n",
        "categories = ['with_mask', 'without_mask']       # 0 for with mask, 1 for without mask"
      ],
      "execution_count": null,
      "outputs": []
    },
    {
      "cell_type": "code",
      "metadata": {
        "id": "FXhlakyuDi-p"
      },
      "source": [
        "size=100\r\n",
        "data=[]\r\n",
        "\r\n",
        "for category in categories:\r\n",
        "  folder=os.path.join(path,category)\r\n",
        "  label=categories.index(category)\r\n",
        "  for img_folder in os.listdir(folder):\r\n",
        "    img_path = os.path.join(folder,img_folder)\r\n",
        "    img=cv2.imread(img_path)\r\n",
        "    Img=cv2.resize(img, (size,size))\r\n",
        "    data.append([Img, label])"
      ],
      "execution_count": null,
      "outputs": []
    },
    {
      "cell_type": "code",
      "metadata": {
        "id": "JxScFMEYD8MF"
      },
      "source": [
        "random.shuffle(data)"
      ],
      "execution_count": null,
      "outputs": []
    },
    {
      "cell_type": "markdown",
      "metadata": {
        "id": "-sOMsdeKHRJS"
      },
      "source": [
        "### Separating Images and labels"
      ]
    },
    {
      "cell_type": "code",
      "metadata": {
        "id": "klPiVZ7tGvlX"
      },
      "source": [
        "Images=[]\r\n",
        "Labels=[]"
      ],
      "execution_count": null,
      "outputs": []
    },
    {
      "cell_type": "code",
      "metadata": {
        "id": "N4ZctKyEHMBp"
      },
      "source": [
        "for image, label in data:\r\n",
        "  Images.append(image)\r\n",
        "  Labels.append(label)"
      ],
      "execution_count": null,
      "outputs": []
    },
    {
      "cell_type": "code",
      "metadata": {
        "id": "qra2taQKHtlw"
      },
      "source": [
        "X=np.array(Images)\r\n",
        "Y=np.array(Labels)"
      ],
      "execution_count": null,
      "outputs": []
    },
    {
      "cell_type": "code",
      "metadata": {
        "colab": {
          "base_uri": "https://localhost:8080/"
        },
        "id": "3QLCjX1HH3Cz",
        "outputId": "55f9dfa2-78c4-4fef-e1d9-3a1a47b0ea81"
      },
      "source": [
        "X.shape"
      ],
      "execution_count": null,
      "outputs": [
        {
          "output_type": "execute_result",
          "data": {
            "text/plain": [
              "(616, 100, 100, 3)"
            ]
          },
          "metadata": {
            "tags": []
          },
          "execution_count": 25
        }
      ]
    },
    {
      "cell_type": "code",
      "metadata": {
        "colab": {
          "base_uri": "https://localhost:8080/"
        },
        "id": "RHdQ5cWCH45j",
        "outputId": "1959b300-2ee4-48b8-b00a-ec2442edca18"
      },
      "source": [
        "Y.shape"
      ],
      "execution_count": null,
      "outputs": [
        {
          "output_type": "execute_result",
          "data": {
            "text/plain": [
              "(616,)"
            ]
          },
          "metadata": {
            "tags": []
          },
          "execution_count": 26
        }
      ]
    },
    {
      "cell_type": "markdown",
      "metadata": {
        "id": "9rtU7KIQH812"
      },
      "source": [
        "### Saving Images in pickle file"
      ]
    },
    {
      "cell_type": "code",
      "metadata": {
        "id": "vnBWpR5xH7ch"
      },
      "source": [
        "pickle.dump(X, open('/content/drive/MyDrive/mask without mask/maskdata/maskdata/train/X.pkl', 'wb'))\r\n",
        "pickle.dump(Y, open('/content/drive/MyDrive/mask without mask/maskdata/maskdata/train/Y.pkl', 'wb'))"
      ],
      "execution_count": null,
      "outputs": []
    },
    {
      "cell_type": "code",
      "metadata": {
        "id": "kGUXwxmOLW63"
      },
      "source": [
        ""
      ],
      "execution_count": null,
      "outputs": []
    }
  ]
}